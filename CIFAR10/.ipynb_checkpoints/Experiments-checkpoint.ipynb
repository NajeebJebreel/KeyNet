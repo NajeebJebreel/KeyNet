{
 "cells": [
  {
   "cell_type": "code",
   "execution_count": null,
   "metadata": {},
   "outputs": [],
   "source": [
    "# Import KeyNet class Pytorch\n",
    "from keynet import KeyNet\n",
    "import torch"
   ]
  },
  {
   "cell_type": "code",
   "execution_count": null,
   "metadata": {},
   "outputs": [],
   "source": [
    "#Hyperparameters\n",
    "# If the the device has a GPU, it we be used.\n",
    "device = torch.device(\"cuda:0\" if torch.cuda.is_available() else \"cpu\")\n",
    "# Epochs of training the original model on the original task\n",
    "original_task_train_epochs = 250\n",
    "# Training and testing batch sizes, learning rate and monetum to be used during training \n",
    "train_batch_size = 128\n",
    "test_batch_size = 100\n",
    "learning_rate = 0.001\n",
    "momentum = 0.9\n",
    "\n",
    "original_classes = ('plane', 'car', 'bird', 'cat', 'deer',\n",
    "           'dog', 'frog', 'horse', 'ship', 'truck')\n",
    "watermark_classes = ('not signed', 'top righ', 'top left', 'down right', 'dwon left', 'center')\n",
    "\n",
    "# Owner and attacker's information string\n",
    "owner_identity_string = b'Y123456789S_CRISES_URV_DEIM_NAJEEBMOHARRAMSALIMJEBREEL02092020imageclassification_ResNet18_10_classes'\n",
    "attacker_identity_string = b'X7823579_CRISES_URV_DEIM_MRAMIJOSEPHAFFAR_crisesURV_2409022_ResNet18_Objectclassification_10labels'\n",
    "signature_size = 25\n",
    "# Epochs used to embed watermark in a pretrained model by finetuning\n",
    "embedwm_byfinetuning_epochs = 30\n",
    "# Epochs used to embed  watermark in a target model from scratch\n",
    "embedwm_fromscratch_epochs = 250\n",
    "\n",
    "finetuning_attack_epochs = [50, 100, 150, 200]\n",
    "# Watermark overwtting epochs\n",
    "wm_overite_epochs = 50\n",
    "original_dataset = 'cifar10'\n",
    "# The owner's water watermark carrier set\n",
    "wmcarrierset = 'stl10'\n",
    "#The attacker's water watermark carrier set\n",
    "attacker_wmcarrierset = 'fmnist'\n",
    "# Models to be watermarked\n",
    "model_names = ['ResNet18', 'VGG16']\n",
    "seed = 123\n",
    "\n",
    "# Create a KeyNet instance\n",
    "keynet = KeyNet(device, original_task_train_epochs = original_task_train_epochs, train_batch_size = train_batch_size, \n",
    "                test_batch_size = test_batch_size, learning_rate = learning_rate, momentum = momentum,\n",
    "                original_classes = original_classes, owner_identity_string = owner_identity_string, \n",
    "                attacker_identity_string = attacker_identity_string,\n",
    "                signature_size = signature_size, embedwm_byfinetuning_epochs = embedwm_byfinetuning_epochs,\n",
    "                embedwm_fromscratch_epochs = embedwm_fromscratch_epochs, \n",
    "                finetuning_attack_epochs = finetuning_attack_epochs, wm_overite_epochs = wm_overite_epochs,\n",
    "                original_dataset = original_dataset, wmcarrierset = wmcarrierset, \n",
    "                attacker_wmcarrierset = attacker_wmcarrierset, model_name = model_names[1], seed = seed)"
   ]
  },
  {
   "cell_type": "code",
   "execution_count": null,
   "metadata": {},
   "outputs": [],
   "source": [
    "# Training of the original task\n",
    "keynet.train_original_task(epochs = 250)"
   ]
  },
  {
   "cell_type": "code",
   "execution_count": null,
   "metadata": {},
   "outputs": [],
   "source": [
    "# To resume training\n",
    "# keynet.train_original_task(resume = True)"
   ]
  },
  {
   "cell_type": "code",
   "execution_count": null,
   "metadata": {},
   "outputs": [],
   "source": [
    "# Embedding watermark in a pretrained model\n",
    "keynet.embedwm_byfinetuning(train_private_model_epochs=30)"
   ]
  },
  {
   "cell_type": "code",
   "execution_count": null,
   "metadata": {},
   "outputs": [],
   "source": [
    "# Finetuning a marked model with the original task loss only\n",
    "keynet.finetune_original_part(finetuning_epochs = 200, model_name = 'fintuned', data_fraction = 0.3)"
   ]
  },
  {
   "cell_type": "code",
   "execution_count": null,
   "metadata": {},
   "outputs": [],
   "source": [
    "# Embedding watermark in a target model from scratch\n",
    "keynet.embedwm_fromscratch(train_fromscratch_epochs = 250)"
   ]
  },
  {
   "cell_type": "code",
   "execution_count": null,
   "metadata": {},
   "outputs": [],
   "source": [
    "# Finetuning a marked model with the original task loss only\n",
    "keynet.finetune_original_part(finetuning_epochs=200, model_name = 'fromscratch', data_fraction = 0.3)"
   ]
  },
  {
   "cell_type": "code",
   "execution_count": null,
   "metadata": {},
   "outputs": [],
   "source": [
    "# Overwritw WM using differnt data fractions\n",
    "data_fraction = [0.01, 0.03, 0.05, 0.1, 0.15]\n",
    "for fraction in data_fraction:\n",
    "    print('Fraction of training data: {}%'.format(fraction*100))\n",
    "    keynet.overwrite_watermark(wm_overite_epochs = wm_overite_epochs, model_name = 'fromscratch', data_fraction = fraction)"
   ]
  },
  {
   "cell_type": "code",
   "execution_count": null,
   "metadata": {},
   "outputs": [],
   "source": []
  }
 ],
 "metadata": {
  "kernelspec": {
   "display_name": "Python 3",
   "language": "python",
   "name": "python3"
  },
  "language_info": {
   "codemirror_mode": {
    "name": "ipython",
    "version": 3
   },
   "file_extension": ".py",
   "mimetype": "text/x-python",
   "name": "python",
   "nbconvert_exporter": "python",
   "pygments_lexer": "ipython3",
   "version": "3.8.5"
  }
 },
 "nbformat": 4,
 "nbformat_minor": 4
}
