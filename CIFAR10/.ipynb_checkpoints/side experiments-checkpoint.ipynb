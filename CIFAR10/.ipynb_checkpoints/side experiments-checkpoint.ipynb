{
 "cells": [
  {
   "cell_type": "code",
   "execution_count": 1,
   "metadata": {},
   "outputs": [],
   "source": [
    "import torch\n",
    "from torch import nn\n",
    "import torch.nn.utils.prune as prune\n",
    "import torch.nn.functional as F\n",
    "from resnet import ResNet18\n",
    "from resnetwm import ResNet18WM\n",
    "import utils\n",
    "from utils import*\n",
    "import torch.utils.data as data\n",
    "import torchvision\n",
    "from torchvision import datasets, transforms\n",
    "import numpy as np\n",
    "import matplotlib.pyplot as plt\n",
    "import random\n",
    "from torch.utils.data import TensorDataset\n",
    "import mlp_private\n",
    "# from mlp_private import MLP\n",
    "from mlp import MLP\n",
    "from dataset import BBoxDtaset\n",
    "import cv2\n",
    "from torch.utils.data.sampler import SubsetRandomSampler\n",
    "import nni\n",
    "from nni.compression.torch import LevelPruner, L1FilterPruner, FPGMPruner, SlimPruner\n",
    "from vgg_models import*\n",
    "from sklearn.metrics import *\n",
    "import itertools"
   ]
  },
  {
   "cell_type": "code",
   "execution_count": 2,
   "metadata": {},
   "outputs": [],
   "source": [
    "#Hyperparameters\n",
    "device = torch.device(\"cuda:0\" if torch.cuda.is_available() else \"cpu\")\n",
    "epochs = 100\n",
    "train_batch_size = 128\n",
    "test_batch_size = 100\n",
    "learning_rate = 0.001\n",
    "momentum = 0.9\n",
    "original_classes = ('plane', 'car', 'bird', 'cat', 'deer',\n",
    "           'dog', 'frog', 'horse', 'ship', 'truck')\n",
    "watermark_classes = ('no key', 'top righ', 'top left', 'down right', 'dwon left')\n",
    "identity_string = b'Y6588121SNAJEEBMOHARRAMSALIMJEBREEL02092020imageclassification_10_classes'\n",
    "fake_identity_string = b'Y6588121NAJEEBMOHARRAMSALIMcrisesURV02092020classification10labels'\n",
    "plagiarizer_identity_string = b'X7823579MRAMIJOSEPHAFFARcrisesURV2409022ResNet18classification10labels'\n",
    "plagiarizer_fake_identity_string = b'X7823579WRAMIHAFFARJOSEP2509022ResNet18classificationofImage10labels'\n",
    "key_size = 5\n",
    "num_wm_samples = 25000\n",
    "train_wm_black_box_epochs = 50\n",
    "combined_original_model_epochs = 200\n",
    "combined_private_model_epochs = 100\n",
    "train_simultaneously_epochs = 100\n",
    "dataset = 'cifar10'\n",
    "containerdataset = 'stl10'"
   ]
  },
  {
   "cell_type": "code",
   "execution_count": 3,
   "metadata": {},
   "outputs": [],
   "source": [
    "# Testing the original model on the original task\n",
    "def test_original_only(model, criterion, test_loader, device):\n",
    "   \n",
    "        model.eval()\n",
    "        test_loss = 0\n",
    "        correct = 0\n",
    "        total = 0\n",
    "        with torch.no_grad():\n",
    "            for batch_idx, (inputs, targets, flags) in enumerate(test_loader):\n",
    "                inputs, targets = inputs.to(device), targets.to(device)\n",
    "                outputs= model(inputs)\n",
    "                loss = criterion(outputs, targets)\n",
    "                test_loss += loss.item()\n",
    "                _, predicted = outputs.max(1)\n",
    "                total += targets.size(0)\n",
    "                correct += predicted.eq(targets).sum().item()\n",
    "\n",
    "            print('Testing: epoch: %d | loss: %.3f | Acc: %.3f' %(1, test_loss/(batch_idx+1), 100.*correct/total))\n",
    "            \n",
    "        return  test_loss/(batch_idx+1), 100.*correct/total"
   ]
  },
  {
   "cell_type": "code",
   "execution_count": 4,
   "metadata": {},
   "outputs": [],
   "source": [
    "# Testing the original model on the original task\n",
    "def test_original(model, criterion, test_loader, device):\n",
    "   \n",
    "        model.eval()\n",
    "        test_loss = 0\n",
    "        correct = 0\n",
    "        total = 0\n",
    "        with torch.no_grad():\n",
    "            for batch_idx, (inputs, targets, flags) in enumerate(test_loader):\n",
    "                inputs, targets = inputs.to(device), targets.to(device)\n",
    "                outputs, _ = model(inputs)\n",
    "                loss = criterion(outputs, targets)\n",
    "                test_loss += loss.item()\n",
    "                _, predicted = outputs.max(1)\n",
    "                total += targets.size(0)\n",
    "                correct += predicted.eq(targets).sum().item()\n",
    "\n",
    "            print('Testing: epoch: %d | loss: %.3f | Acc: %.3f' %(1, test_loss/(batch_idx+1), 100.*correct/total))\n",
    "            \n",
    "        return  test_loss/(batch_idx+1), 100.*correct/total"
   ]
  },
  {
   "cell_type": "code",
   "execution_count": 5,
   "metadata": {},
   "outputs": [],
   "source": [
    "# Testing the private model on the wm task\n",
    "def test_private(model, criterion, test_loader, device):\n",
    "   \n",
    "        model.eval()\n",
    "        test_loss = 0\n",
    "        correct = 0\n",
    "        total = 0\n",
    "        with torch.no_grad():\n",
    "            for batch_idx, (inputs, targets, flags) in enumerate(test_loader):\n",
    "                inputs, targets = inputs.to(device), targets.to(device)\n",
    "                targets = targets.type(torch.LongTensor).to(device)\n",
    "                _, outputs = model(inputs)\n",
    "                loss = criterion(outputs, targets)\n",
    "                test_loss += loss.item()\n",
    "                _, predicted = outputs.max(1)\n",
    "                total += targets.size(0)\n",
    "                correct += predicted.eq(targets).sum().item()\n",
    "\n",
    "            print('Private model testing: epoch: %d | loss: %.3f | Acc: %.3f' %(1, test_loss/(batch_idx+1), 100.*correct/total))\n",
    "            \n",
    "            return  test_loss/(batch_idx+1), 100.*correct/total"
   ]
  },
  {
   "cell_type": "code",
   "execution_count": 6,
   "metadata": {},
   "outputs": [],
   "source": [
    "# Testing the private model on the wm task\n",
    "def test_private_part(model, criterion, test_loader, device):\n",
    "        model.eval()\n",
    "        test_loss = 0\n",
    "        correct = 0\n",
    "        total = 0\n",
    "        with torch.no_grad():\n",
    "            for batch_idx, (inputs, targets, flags) in enumerate(test_loader):\n",
    "                inputs, targets = inputs.to(device), targets.to(device)\n",
    "                targets = targets.type(torch.LongTensor).to(device)\n",
    "                outputs = model(inputs)\n",
    "                loss = criterion(outputs, targets)\n",
    "                test_loss += loss.item()\n",
    "                _, predicted = outputs.max(1)\n",
    "                total += targets.size(0)\n",
    "                correct += predicted.eq(targets).sum().item()\n",
    "\n",
    "            print('Testing: epoch: %d | loss: %.3f | Acc: %.3f' %(1, test_loss/(batch_idx+1), 100.*correct/total))\n",
    "            \n",
    "        return  test_loss/(batch_idx+1), 100.*correct/total"
   ]
  },
  {
   "cell_type": "code",
   "execution_count": 7,
   "metadata": {},
   "outputs": [],
   "source": [
    "def plot_confusion_matrix(cm, classes,\n",
    "                          normalize=False,\n",
    "                          title='Confusion matrix',\n",
    "                          cmap=plt.cm.Blues):\n",
    "    \"\"\"\n",
    "    This function prints and plots the confusion matrix.\n",
    "    Normalization can be applied by setting `normalize=True`.\n",
    "    \"\"\"\n",
    "    if normalize:\n",
    "        cm = cm.astype('float') / cm.sum(axis=1)[:, np.newaxis]\n",
    "        print(\"Normalized confusion matrix\")\n",
    "    else:\n",
    "        print('Confusion matrix, without normalization')\n",
    "\n",
    "    print(cm)\n",
    "    plt.imshow(cm, interpolation='nearest', cmap=cmap)\n",
    "    plt.title(title)\n",
    "    plt.colorbar()\n",
    "    tick_marks = np.arange(len(classes))\n",
    "    plt.xticks(tick_marks, classes, rotation=45)\n",
    "    plt.yticks(tick_marks, classes)\n",
    "    fmt = '.2f' if normalize else 'd'\n",
    "    thresh = cm.max() / 2.\n",
    "    for i, j in itertools.product(range(cm.shape[0]),   range(cm.shape[1])):\n",
    "        plt.text(j, i, format(cm[i, j], fmt),\n",
    "                 horizontalalignment=\"center\",\n",
    "                 color=\"white\" if cm[i, j] > thresh else \"black\")\n",
    "    plt.tight_layout()\n",
    "    plt.ylabel('True label')\n",
    "    plt.xlabel('Predicted label')"
   ]
  },
  {
   "cell_type": "code",
   "execution_count": null,
   "metadata": {},
   "outputs": [],
   "source": []
  },
  {
   "cell_type": "code",
   "execution_count": 22,
   "metadata": {},
   "outputs": [],
   "source": [
    "#Test label predictions\n",
    "def test_label_predictions_combined(test_loader, model, device):\n",
    "    model.eval()\n",
    "    actuals = []\n",
    "    predictions = []\n",
    "\n",
    "    with torch.no_grad():\n",
    "         for batch_idx, (inputs, targets, flags) in enumerate(test_loader):\n",
    "            inputs, targets = inputs.to(device), targets.to(device)\n",
    "            targets = targets.type(torch.LongTensor).squeeze().to(device)\n",
    "            _, outputs = model(inputs)\n",
    "            outputs = outputs.squeeze()\n",
    "            prediction = outputs.argmax(dim=1, keepdim=True)\n",
    "            actuals.extend(targets.view_as(prediction))\n",
    "            predictions.extend(prediction)\n",
    "\n",
    "    actuals =  [i.item() for i in actuals]\n",
    "    predictions = [i.item() for i in predictions]\n",
    "    print('Confusion matrix:')\n",
    "    cnf_matrix = confusion_matrix(actuals, predictions)\n",
    "    print(cnf_matrix)\n",
    "    plt.figure()\n",
    "    plot_confusion_matrix(cnf_matrix, classes=[str(i) for i in range(6)], normalize=True,\n",
    "                      title='With predictions of unmarked VGG16')\n",
    "    plt.tight_layout()\n",
    "    plt.savefig('private_resnet18_with_unmarked_vgg16.png', dpi = 600)\n",
    "    plt.show()\n",
    "    print('F1 score: %f' % accuracy_score(actuals, predictions))\n",
    "\n",
    "    print('{0:10s} - {1}'.format('Category','Accuracy'))\n",
    "    for i, r in enumerate(confusion_matrix(actuals, predictions)):\n",
    "        print('{0:10s} - {1:.1f}'.format(str(i), r[i]/np.sum(r)*100))\n"
   ]
  },
  {
   "cell_type": "code",
   "execution_count": 9,
   "metadata": {},
   "outputs": [],
   "source": [
    "\"\"\" get the outputs of the original model to use them as input feature to the private model \n",
    "    that will be trained in a blackbox setting. \"\"\"\n",
    "def get_original_model_outputs(model, dataloader, device):\n",
    "        model.eval()\n",
    "        features = []\n",
    "        labels = []\n",
    "        with torch.no_grad():\n",
    "            for batch_idx, (inputs, targets, flags) in enumerate(dataloader):\n",
    "                inputs, targets = inputs.to(device), targets.to(device)\n",
    "                outputs = model(inputs)\n",
    "                features.append(outputs)\n",
    "                labels.append(targets)\n",
    "    \n",
    "        return features, labels"
   ]
  },
  {
   "cell_type": "code",
   "execution_count": 10,
   "metadata": {},
   "outputs": [],
   "source": [
    "\"\"\" get the outputs of the original model to use them as input feature to the private model \n",
    "    that will be trained in a blackbox setting. \"\"\"\n",
    "def get_wm_model_outputs(model, dataloader, device):\n",
    "        model.eval()\n",
    "        features = []\n",
    "        labels = []\n",
    "        with torch.no_grad():\n",
    "            for batch_idx, (inputs, targets, flags) in enumerate(dataloader):\n",
    "                inputs, targets = inputs.to(device), targets.to(device)\n",
    "                outputs, _ = model(inputs)\n",
    "                features.append(outputs[0])\n",
    "                labels.append(targets)\n",
    "    \n",
    "        return features, labels"
   ]
  },
  {
   "cell_type": "code",
   "execution_count": 11,
   "metadata": {},
   "outputs": [
    {
     "name": "stdout",
     "output_type": "stream",
     "text": [
      "Files already downloaded and verified\n",
      "Files already downloaded and verified\n"
     ]
    }
   ],
   "source": [
    "#load original dataset\n",
    "\n",
    "trainset, testset, train_loader, test_loader = get_flagged_cifar10_dataset(100, 100)\n",
    "random_samples = np.random.choice(len(trainset), int(len(trainset)*1), replace = False)\n",
    "sampled_trainset = torch.utils.data.Subset(trainset, random_samples)\n",
    "finetune_train_loader = torch.utils.data.DataLoader(\n",
    "        sampled_trainset, batch_size=100, shuffle=True, num_workers=2)\n"
   ]
  },
  {
   "cell_type": "code",
   "execution_count": 12,
   "metadata": {},
   "outputs": [
    {
     "name": "stdout",
     "output_type": "stream",
     "text": [
      "Files already downloaded and verified\n"
     ]
    }
   ],
   "source": [
    "# load watermark dataset\n",
    "\n",
    "trainsetwm, testsetwm = get_signed_dataset(identity_string, fake_identity_string, key_size, num_wm_samples\n",
    "                                          , containerdataset=containerdataset)\n",
    "wm_testloader = torch.utils.data.DataLoader(testsetwm, batch_size=10, shuffle=False, num_workers=1)\n",
    "\n",
    "\n",
    "# wm_testloader = torch.utils.data.DataLoader(\n",
    "#         trainsetwm, batch_size=10, shuffle=False, num_workers=1)"
   ]
  },
  {
   "cell_type": "code",
   "execution_count": 20,
   "metadata": {},
   "outputs": [
    {
     "data": {
      "text/plain": [
       "<All keys matched successfully>"
      ]
     },
     "execution_count": 20,
     "metadata": {},
     "output_type": "execute_result"
    }
   ],
   "source": [
    "#Loading of models\n",
    "criterion = nn.CrossEntropyLoss()\n",
    "\n",
    "resnet18 = ResNet18().to(device)\n",
    "checkpoint = torch.load('./Checkpoints/best_original_cifar10.t7')\n",
    "resnet18.load_state_dict(checkpoint['state_dict'])\n",
    "\n",
    "resnet18wm = ResNet18WM().to(device)\n",
    "checkpoint = torch.load('./Checkpoints/best_combined_fromscratch_cifar10.t7')\n",
    "resnet18wm.load_state_dict(checkpoint['state_dict'])\n",
    "\n",
    "vgg16 = VGG('VGG16').to(device)\n",
    "checkpoint = torch.load('./Checkpoints/best_original_cifar10vgg16.t7')\n",
    "vgg16.load_state_dict(checkpoint['state_dict'])\n",
    "\n",
    "vgg16wm = VGGWM('VGG16').to(device)\n",
    "checkpoint = torch.load('./Checkpoints/best_combined_fromscratch_cifar10vgg16.t7')\n",
    "vgg16wm.load_state_dict(checkpoint['state_dict'])\n"
   ]
  },
  {
   "cell_type": "code",
   "execution_count": 14,
   "metadata": {},
   "outputs": [
    {
     "name": "stdout",
     "output_type": "stream",
     "text": [
      "Private model testing: epoch: 1 | loss: 0.007 | Acc: 99.760\n",
      "Confusion matrix:\n",
      "[[478   0   0   0   0   0]\n",
      " [  0 419   0   0   0   0]\n",
      " [  1   0 419   0   0   0]\n",
      " [  3   0   0 386   1   0]\n",
      " [  0   0   0   0 407   0]\n",
      " [  1   0   0   0   0 385]]\n",
      "F1 score: 0.997600\n",
      "Category   - Accuracy\n",
      "0          - 100.0\n",
      "1          - 100.0\n",
      "2          - 99.8\n",
      "3          - 99.0\n",
      "4          - 100.0\n",
      "5          - 99.7\n"
     ]
    }
   ],
   "source": [
    "# test_original(resnet18wm, criterion, test_loader, device)\n",
    "test_private(resnet18wm, criterion, wm_testloader, device) \n",
    "test_label_predictions_combined(wm_testloader, resnet18wm, device)"
   ]
  },
  {
   "cell_type": "code",
   "execution_count": 15,
   "metadata": {},
   "outputs": [
    {
     "name": "stdout",
     "output_type": "stream",
     "text": [
      "Private model testing: epoch: 1 | loss: 0.005 | Acc: 99.920\n",
      "Confusion matrix:\n",
      "[[478   0   0   0   0   0]\n",
      " [  0 419   0   0   0   0]\n",
      " [  0   0 420   0   0   0]\n",
      " [  0   0   0 389   0   1]\n",
      " [  1   0   0   0 406   0]\n",
      " [  0   0   0   0   0 386]]\n",
      "F1 score: 0.999200\n",
      "Category   - Accuracy\n",
      "0          - 100.0\n",
      "1          - 100.0\n",
      "2          - 100.0\n",
      "3          - 99.7\n",
      "4          - 99.8\n",
      "5          - 100.0\n"
     ]
    }
   ],
   "source": [
    "# test_original(vgg16wm, criterion, test_loader, device)\n",
    "test_private(vgg16wm, criterion, wm_testloader, device) \n",
    "test_label_predictions_combined(wm_testloader, vgg16wm, device)"
   ]
  },
  {
   "cell_type": "code",
   "execution_count": 21,
   "metadata": {},
   "outputs": [
    {
     "name": "stdout",
     "output_type": "stream",
     "text": [
      "Testing the private model trained with marked resnet18 with other unmarked resnet18\n",
      "Private model testing: epoch: 1 | loss: 5.872 | Acc: 24.920\n",
      "Confusion matrix:\n",
      "[[289   3  84  40   8  54]\n",
      " [236   4 105  37   5  32]\n",
      " [249   5  87  46   2  31]\n",
      " [275   1  38  35   8  33]\n",
      " [283   1  56  26  11  30]\n",
      " [123   0  44  13   9 197]]\n",
      "Normalized confusion matrix\n",
      "[[0.60460251 0.00627615 0.17573222 0.08368201 0.0167364  0.11297071]\n",
      " [0.56324582 0.00954654 0.25059666 0.08830549 0.01193317 0.07637232]\n",
      " [0.59285714 0.01190476 0.20714286 0.10952381 0.0047619  0.07380952]\n",
      " [0.70512821 0.0025641  0.0974359  0.08974359 0.02051282 0.08461538]\n",
      " [0.6953317  0.002457   0.13759214 0.06388206 0.02702703 0.07371007]\n",
      " [0.31865285 0.         0.11398964 0.03367876 0.02331606 0.51036269]]\n"
     ]
    },
    {
     "data": {
      "image/png": "[encoded data removed]",
      "text/plain": [
       "<Figure size 432x288 with 2 Axes>"
      ]
     },
     "metadata": {
      "needs_background": "light"
     },
     "output_type": "display_data"
    },
    {
     "name": "stdout",
     "output_type": "stream",
     "text": [
      "F1 score: 0.249200\n",
      "Category   - Accuracy\n",
      "0          - 60.5\n",
      "1          - 1.0\n",
      "2          - 20.7\n",
      "3          - 9.0\n",
      "4          - 2.7\n",
      "5          - 51.0\n"
     ]
    }
   ],
   "source": [
    "#Integrity experiments\n",
    "\n",
    "#1. Testing the private model trained with marked resnet18 with other unmarked resnet18\n",
    "print('Testing the private model trained with marked resnet18 with other unmarked resnet18')\n",
    "resnet18_dict = resnet18.state_dict()\n",
    "resnet18wm_dict = resnet18wm.state_dict()\n",
    "for key in resnet18_dict.keys():\n",
    "    resnet18wm_dict[key] = copy.deepcopy(resnet18_dict[key])\n",
    "\n",
    "resnet18wm.load_state_dict(resnet18wm_dict)\n",
    "# test_original(resnet18wm, criterion, test_loader, device)\n",
    "test_private(resnet18wm, criterion, wm_testloader, device) \n",
    "test_label_predictions_combined(wm_testloader, resnet18wm, device)"
   ]
  },
  {
   "cell_type": "code",
   "execution_count": 23,
   "metadata": {},
   "outputs": [
    {
     "data": {
      "text/plain": [
       "<All keys matched successfully>"
      ]
     },
     "execution_count": 23,
     "metadata": {},
     "output_type": "execute_result"
    }
   ],
   "source": [
    "#Loading of models\n",
    "criterion = nn.CrossEntropyLoss()\n",
    "\n",
    "resnet18 = ResNet18().to(device)\n",
    "checkpoint = torch.load('./Checkpoints/best_original_cifar10.t7')\n",
    "resnet18.load_state_dict(checkpoint['state_dict'])\n",
    "\n",
    "resnet18wm = ResNet18WM().to(device)\n",
    "checkpoint = torch.load('./Checkpoints/best_combined_fromscratch_cifar10.t7')\n",
    "resnet18wm.load_state_dict(checkpoint['state_dict'])\n",
    "\n",
    "vgg16 = VGG('VGG16').to(device)\n",
    "checkpoint = torch.load('./Checkpoints/best_original_cifar10vgg16.t7')\n",
    "vgg16.load_state_dict(checkpoint['state_dict'])\n",
    "\n",
    "vgg16wm = VGGWM('VGG16').to(device)\n",
    "checkpoint = torch.load('./Checkpoints/best_combined_fromscratch_cifar10vgg16.t7')\n",
    "vgg16wm.load_state_dict(checkpoint['state_dict'])"
   ]
  },
  {
   "cell_type": "code",
   "execution_count": 24,
   "metadata": {},
   "outputs": [
    {
     "name": "stdout",
     "output_type": "stream",
     "text": [
      "Testing the private model trained with marked resnet18 with other unmarked vgg16\n",
      "Private model testing: epoch: 1 | loss: 3.320 | Acc: 26.800\n",
      "Confusion matrix:\n",
      "[[ 96   0  49 287  21  25]\n",
      " [ 97   0  54 258   5   5]\n",
      " [ 90   0  76 246   3   5]\n",
      " [ 57   0  27 282  18   6]\n",
      " [ 93   0  25 252  24  13]\n",
      " [ 39   0  14  14 127 192]]\n",
      "Normalized confusion matrix\n",
      "[[0.20083682 0.         0.10251046 0.60041841 0.04393305 0.05230126]\n",
      " [0.23150358 0.         0.12887828 0.61575179 0.01193317 0.01193317]\n",
      " [0.21428571 0.         0.18095238 0.58571429 0.00714286 0.01190476]\n",
      " [0.14615385 0.         0.06923077 0.72307692 0.04615385 0.01538462]\n",
      " [0.22850123 0.         0.06142506 0.61916462 0.05896806 0.03194103]\n",
      " [0.10103627 0.         0.03626943 0.03626943 0.32901554 0.49740933]]\n"
     ]
    },
    {
     "data": {
      "image/png": "[encoded data removed]",
      "text/plain": [
       "<Figure size 432x288 with 2 Axes>"
      ]
     },
     "metadata": {
      "needs_background": "light"
     },
     "output_type": "display_data"
    },
    {
     "name": "stdout",
     "output_type": "stream",
     "text": [
      "F1 score: 0.268000\n",
      "Category   - Accuracy\n",
      "0          - 20.1\n",
      "1          - 0.0\n",
      "2          - 18.1\n",
      "3          - 72.3\n",
      "4          - 5.9\n",
      "5          - 49.7\n"
     ]
    }
   ],
   "source": [
    "#2. Testing the private model trained with marked resnet18 with other unmarked vgg16\n",
    "print('Testing the private model trained with marked resnet18 with other unmarked vgg16')\n",
    "vgg16_dict = vgg16.state_dict()\n",
    "vgg16wm_dict = vgg16wm.state_dict()\n",
    "resnet18wm_dict = resnet18wm.state_dict()\n",
    "\n",
    "\n",
    "vgg16wm_dict['wmlinear1.weight'] = copy.deepcopy(resnet18wm_dict['wmlayer1.weight'])\n",
    "vgg16wm_dict['wmlinear2.weight'] = copy.deepcopy(resnet18wm_dict['wmlayer2.weight'])\n",
    "vgg16wm_dict['wmlinear3.weight'] = copy.deepcopy(resnet18wm_dict['wmlayer3.weight'])\n",
    "vgg16wm_dict['wmlinear1.bias'] = copy.deepcopy(resnet18wm_dict['wmlayer1.bias'])\n",
    "vgg16wm_dict['wmlinear2.bias'] = copy.deepcopy(resnet18wm_dict['wmlayer2.bias'])\n",
    "vgg16wm_dict['wmlinear3.bias'] = copy.deepcopy(resnet18wm_dict['wmlayer3.bias'])\n",
    " \n",
    "\n",
    "for key in vgg16_dict.keys():\n",
    "    vgg16wm_dict[key] = copy.deepcopy(vgg16_dict[key])\n",
    "\n",
    "vgg16wm.load_state_dict(vgg16wm_dict)\n",
    "# test_original(vgg16wm, criterion, test_loader, device)\n",
    "test_private(vgg16wm, criterion, wm_testloader, device) \n",
    "test_label_predictions_combined(wm_testloader, vgg16wm, device)"
   ]
  },
  {
   "cell_type": "code",
   "execution_count": 15,
   "metadata": {},
   "outputs": [
    {
     "data": {
      "text/plain": [
       "<All keys matched successfully>"
      ]
     },
     "execution_count": 15,
     "metadata": {},
     "output_type": "execute_result"
    }
   ],
   "source": [
    "#Loading of models\n",
    "criterion = nn.CrossEntropyLoss()\n",
    "\n",
    "resnet18 = ResNet18().to(device)\n",
    "checkpoint = torch.load('./Checkpoints/best_original_cifar10.t7')\n",
    "resnet18.load_state_dict(checkpoint['state_dict'])\n",
    "\n",
    "resnet18wm = ResNet18WM().to(device)\n",
    "checkpoint = torch.load('./Checkpoints/best_combined_fromscratch_cifar10.t7')\n",
    "resnet18wm.load_state_dict(checkpoint['state_dict'])\n",
    "\n",
    "vgg16 = VGG('VGG16').to(device)\n",
    "checkpoint = torch.load('./Checkpoints/best_original_cifar10vgg16.t7')\n",
    "vgg16.load_state_dict(checkpoint['state_dict'])\n",
    "\n",
    "vgg16wm = VGGWM('VGG16').to(device)\n",
    "checkpoint = torch.load('./Checkpoints/best_combined_fromscratch_cifar10vgg16.t7')\n",
    "vgg16wm.load_state_dict(checkpoint['state_dict'])"
   ]
  },
  {
   "cell_type": "code",
   "execution_count": 16,
   "metadata": {},
   "outputs": [
    {
     "name": "stdout",
     "output_type": "stream",
     "text": [
      "Testing the private model trained with marked vgg16 with other unmarked vgg16\n",
      "Private model testing: epoch: 1 | loss: 4.741 | Acc: 7.920\n",
      "Confusion matrix:\n",
      "[[ 55   0  15  52   0 356]\n",
      " [ 27   0  12  54   0 326]\n",
      " [ 12   0   8  63   0 337]\n",
      " [ 30   2  19  64   0 275]\n",
      " [ 38   5  24  56   0 284]\n",
      " [255   4   2  54   0  71]]\n",
      "Normalized confusion matrix\n",
      "[[0.11506276 0.         0.03138075 0.10878661 0.         0.74476987]\n",
      " [0.06443914 0.         0.02863962 0.12887828 0.         0.77804296]\n",
      " [0.02857143 0.         0.01904762 0.15       0.         0.80238095]\n",
      " [0.07692308 0.00512821 0.04871795 0.16410256 0.         0.70512821]\n",
      " [0.09336609 0.01228501 0.05896806 0.13759214 0.         0.6977887 ]\n",
      " [0.66062176 0.01036269 0.00518135 0.13989637 0.         0.18393782]]\n"
     ]
    },
    {
     "data": {
      "image/png": "[encoded data removed]",
      "text/plain": [
       "<Figure size 432x288 with 2 Axes>"
      ]
     },
     "metadata": {
      "needs_background": "light"
     },
     "output_type": "display_data"
    },
    {
     "name": "stdout",
     "output_type": "stream",
     "text": [
      "F1 score: 0.079200\n",
      "Category   - Accuracy\n",
      "0          - 11.5\n",
      "1          - 0.0\n",
      "2          - 1.9\n",
      "3          - 16.4\n",
      "4          - 0.0\n",
      "5          - 18.4\n"
     ]
    }
   ],
   "source": [
    "#3. Testing the private model trained with marked vgg16 with other unmarked vgg16\n",
    "print('Testing the private model trained with marked vgg16 with other unmarked vgg16')\n",
    "vgg16_dict = vgg16.state_dict()\n",
    "vgg16wm_dict = vgg16wm.state_dict()\n",
    "for key in vgg16_dict.keys():\n",
    "    vgg16wm_dict[key] = copy.deepcopy(vgg16_dict[key])\n",
    "\n",
    "vgg16wm.load_state_dict(vgg16wm_dict)\n",
    "# test_original(vgg16wm, criterion, test_loader, device)\n",
    "test_private(vgg16wm, criterion, wm_testloader, device) \n",
    "test_label_predictions_combined(wm_testloader, vgg16wm, device)"
   ]
  },
  {
   "cell_type": "code",
   "execution_count": 17,
   "metadata": {},
   "outputs": [
    {
     "data": {
      "text/plain": [
       "<All keys matched successfully>"
      ]
     },
     "execution_count": 17,
     "metadata": {},
     "output_type": "execute_result"
    }
   ],
   "source": [
    "#Loading of models\n",
    "criterion = nn.CrossEntropyLoss()\n",
    "\n",
    "resnet18 = ResNet18().to(device)\n",
    "checkpoint = torch.load('./Checkpoints/best_original_cifar10.t7')\n",
    "resnet18.load_state_dict(checkpoint['state_dict'])\n",
    "\n",
    "resnet18wm = ResNet18WM().to(device)\n",
    "checkpoint = torch.load('./Checkpoints/best_combined_fromscratch_cifar10.t7')\n",
    "resnet18wm.load_state_dict(checkpoint['state_dict'])\n",
    "\n",
    "vgg16 = VGG('VGG16').to(device)\n",
    "checkpoint = torch.load('./Checkpoints/best_original_cifar10vgg16.t7')\n",
    "vgg16.load_state_dict(checkpoint['state_dict'])\n",
    "\n",
    "vgg16wm = VGGWM('VGG16').to(device)\n",
    "checkpoint = torch.load('./Checkpoints/best_combined_fromscratch_cifar10vgg16.t7')\n",
    "vgg16wm.load_state_dict(checkpoint['state_dict'])"
   ]
  },
  {
   "cell_type": "code",
   "execution_count": 18,
   "metadata": {},
   "outputs": [
    {
     "name": "stdout",
     "output_type": "stream",
     "text": [
      "Testing the private model trained with marked vgg16 with other unmarked resnet18\n",
      "Private model testing: epoch: 1 | loss: 5.996 | Acc: 12.320\n",
      "Confusion matrix:\n",
      "[[161   0  29  59   5 224]\n",
      " [101   0  30  67   5 216]\n",
      " [ 76   0  35  58   5 246]\n",
      " [124   2  46  57   5 156]\n",
      " [143   0  27  53   1 183]\n",
      " [268   2  10  52   0  54]]\n",
      "Normalized confusion matrix\n",
      "[[0.33682008 0.         0.06066946 0.12343096 0.01046025 0.46861925]\n",
      " [0.24105012 0.         0.07159905 0.15990453 0.01193317 0.51551313]\n",
      " [0.18095238 0.         0.08333333 0.13809524 0.01190476 0.58571429]\n",
      " [0.31794872 0.00512821 0.11794872 0.14615385 0.01282051 0.4       ]\n",
      " [0.35135135 0.         0.06633907 0.13022113 0.002457   0.44963145]\n",
      " [0.69430052 0.00518135 0.02590674 0.13471503 0.         0.13989637]]\n"
     ]
    },
    {
     "data": {
      "image/png": "[encoded data removed]",
      "text/plain": [
       "<Figure size 432x288 with 2 Axes>"
      ]
     },
     "metadata": {
      "needs_background": "light"
     },
     "output_type": "display_data"
    },
    {
     "name": "stdout",
     "output_type": "stream",
     "text": [
      "F1 score: 0.123200\n",
      "Category   - Accuracy\n",
      "0          - 33.7\n",
      "1          - 0.0\n",
      "2          - 8.3\n",
      "3          - 14.6\n",
      "4          - 0.2\n",
      "5          - 14.0\n"
     ]
    }
   ],
   "source": [
    "#2. Testing the private model trained with marked vgg16 with other unmarked resnet18\n",
    "print('Testing the private model trained with marked vgg16 with other unmarked resnet18')\n",
    "\n",
    "vgg16wm_dict = vgg16wm.state_dict()\n",
    "resnet18_dict = resnet18.state_dict()\n",
    "resnet18wm_dict = resnet18wm.state_dict()\n",
    "\n",
    "\n",
    "\n",
    "resnet18wm_dict['wmlayer1.weight'] = copy.deepcopy(vgg16wm_dict['wmlinear1.weight'])\n",
    "resnet18wm_dict['wmlayer2.weight'] = copy.deepcopy(vgg16wm_dict['wmlinear2.weight'])\n",
    "resnet18wm_dict['wmlayer3.weight'] = copy.deepcopy(vgg16wm_dict['wmlinear3.weight'])\n",
    "resnet18wm_dict['wmlayer1.bias'] = copy.deepcopy(vgg16wm_dict['wmlinear1.bias'])\n",
    "resnet18wm_dict['wmlayer2.bias'] = copy.deepcopy(vgg16wm_dict['wmlinear2.bias'])\n",
    "resnet18wm_dict['wmlayer3.bias'] = copy.deepcopy(vgg16wm_dict['wmlinear3.bias'])\n",
    " \n",
    "\n",
    "for key in resnet18_dict.keys():\n",
    "    resnet18wm_dict[key] = copy.deepcopy(resnet18_dict[key])\n",
    "\n",
    "resnet18wm.load_state_dict(resnet18wm_dict)\n",
    "# test_original(resnet18wm, criterion, test_loader, device)\n",
    "test_private(resnet18wm, criterion, wm_testloader, device) \n",
    "test_label_predictions_combined(wm_testloader, resnet18wm, device)"
   ]
  },
  {
   "cell_type": "code",
   "execution_count": 1,
   "metadata": {},
   "outputs": [],
   "source": [
    "from resnet_models import*"
   ]
  },
  {
   "cell_type": "code",
   "execution_count": 4,
   "metadata": {},
   "outputs": [
    {
     "name": "stdout",
     "output_type": "stream",
     "text": [
      "torch.Size([1, 6])\n"
     ]
    }
   ],
   "source": [
    "net = ResNet18WM()\n",
    "y = net(torch.randn(1, 3, 32, 32))\n",
    "print(y[1].size())"
   ]
  }
 ],
 "metadata": {
  "kernelspec": {
   "display_name": "Python 3",
   "language": "python",
   "name": "python3"
  },
  "language_info": {
   "codemirror_mode": {
    "name": "ipython",
    "version": 3
   },
   "file_extension": ".py",
   "mimetype": "text/x-python",
   "name": "python",
   "nbconvert_exporter": "python",
   "pygments_lexer": "ipython3",
   "version": "3.8.5"
  }
 },
 "nbformat": 4,
 "nbformat_minor": 4
}
