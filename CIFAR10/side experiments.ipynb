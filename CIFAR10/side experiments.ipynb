{
 "cells": [
  {
   "cell_type": "code",
   "execution_count": 1,
   "metadata": {},
   "outputs": [],
   "source": [
    "import torch\n",
    "from torch import nn\n",
    "import torch.nn.utils.prune as prune\n",
    "import torch.nn.functional as F\n",
    "from resnet_models import*\n",
    "import utils\n",
    "from utils import*\n",
    "import torch.utils.data as data\n",
    "import torchvision\n",
    "from torchvision import datasets, transforms\n",
    "import numpy as np\n",
    "import matplotlib.pyplot as plt\n",
    "import random\n",
    "from torch.utils.data import TensorDataset\n",
    "import mlp_private\n",
    "from mlp_private import*\n",
    "from dataset import BBoxDtaset\n",
    "import cv2\n",
    "from torch.utils.data.sampler import SubsetRandomSampler\n",
    "import nni\n",
    "from nni.compression.torch import LevelPruner, L1FilterPruner, FPGMPruner, SlimPruner\n",
    "# from vgg_models import*\n",
    "from sklearn.metrics import *\n",
    "import itertools"
   ]
  },
  {
   "cell_type": "code",
   "execution_count": 2,
   "metadata": {},
   "outputs": [],
   "source": [
    "#Hyperparameters\n",
    "device = torch.device(\"cuda:0\" if torch.cuda.is_available() else \"cpu\")\n",
    "epochs = 100\n",
    "train_batch_size = 128\n",
    "test_batch_size = 100\n",
    "learning_rate = 0.001\n",
    "momentum = 0.9\n",
    "original_classes = ('plane', 'car', 'bird', 'cat', 'deer',\n",
    "           'dog', 'frog', 'horse', 'ship', 'truck')\n",
    "watermark_classes = ('no key', 'top righ', 'top left', 'down right', 'dwon left')\n",
    "identity_string = b'Y6588121SNAJEEBMOHARRAMSALIMJEBREEL02092020imageclassification_10_classes'\n",
    "fake_identity_string = b'Y6588121NAJEEBMOHARRAMSALIMcrisesURV02092020classification10labels'\n",
    "plagiarizer_identity_string = b'X7823579MRAMIJOSEPHAFFARcrisesURV2409022ResNet18classification10labels'\n",
    "plagiarizer_fake_identity_string = b'X7823579WRAMIHAFFARJOSEP2509022ResNet18classificationofImage10labels'\n",
    "key_size = 5\n",
    "num_wm_samples = 25000\n",
    "train_wm_black_box_epochs = 50\n",
    "combined_original_model_epochs = 200\n",
    "combined_private_model_epochs = 100\n",
    "train_simultaneously_epochs = 100\n",
    "dataset = 'cifar10'\n",
    "containerdataset = 'stl10'"
   ]
  },
  {
   "cell_type": "code",
   "execution_count": null,
   "metadata": {},
   "outputs": [],
   "source": [
    "# Testing the original model on the original task\n",
    "def test_original_only(model, criterion, test_loader, device):\n",
    "   \n",
    "        model.eval()\n",
    "        test_loss = 0\n",
    "        correct = 0\n",
    "        total = 0\n",
    "        with torch.no_grad():\n",
    "            for batch_idx, (inputs, targets, flags) in enumerate(test_loader):\n",
    "                inputs, targets = inputs.to(device), targets.to(device)\n",
    "                outputs= model(inputs)\n",
    "                loss = criterion(outputs, targets)\n",
    "                test_loss += loss.item()\n",
    "                _, predicted = outputs.max(1)\n",
    "                total += targets.size(0)\n",
    "                correct += predicted.eq(targets).sum().item()\n",
    "\n",
    "            print('Testing: epoch: %d | loss: %.3f | Acc: %.3f' %(1, test_loss/(batch_idx+1), 100.*correct/total))\n",
    "            \n",
    "        return  test_loss/(batch_idx+1), 100.*correct/total"
   ]
  },
  {
   "cell_type": "code",
   "execution_count": null,
   "metadata": {},
   "outputs": [],
   "source": [
    "# Testing the original model on the original task\n",
    "def test_original(model, criterion, test_loader, device):\n",
    "   \n",
    "        model.eval()\n",
    "        test_loss = 0\n",
    "        correct = 0\n",
    "        total = 0\n",
    "        with torch.no_grad():\n",
    "            for batch_idx, (inputs, targets, flags) in enumerate(test_loader):\n",
    "                inputs, targets = inputs.to(device), targets.to(device)\n",
    "                outputs, _ = model(inputs)\n",
    "                loss = criterion(outputs, targets)\n",
    "                test_loss += loss.item()\n",
    "                _, predicted = outputs.max(1)\n",
    "                total += targets.size(0)\n",
    "                correct += predicted.eq(targets).sum().item()\n",
    "\n",
    "            print('Testing: epoch: %d | loss: %.3f | Acc: %.3f' %(1, test_loss/(batch_idx+1), 100.*correct/total))\n",
    "            \n",
    "        return  test_loss/(batch_idx+1), 100.*correct/total"
   ]
  },
  {
   "cell_type": "code",
   "execution_count": null,
   "metadata": {},
   "outputs": [],
   "source": [
    "# Testing the private model on the wm task\n",
    "def test_private(model, criterion, test_loader, device):\n",
    "   \n",
    "        model.eval()\n",
    "        test_loss = 0\n",
    "        correct = 0\n",
    "        total = 0\n",
    "        with torch.no_grad():\n",
    "            for batch_idx, (inputs, targets, flags) in enumerate(test_loader):\n",
    "                inputs, targets = inputs.to(device), targets.to(device)\n",
    "                targets = targets.type(torch.LongTensor).to(device)\n",
    "                _, outputs = model(inputs)\n",
    "                loss = criterion(outputs, targets)\n",
    "                test_loss += loss.item()\n",
    "                _, predicted = outputs.max(1)\n",
    "                total += targets.size(0)\n",
    "                correct += predicted.eq(targets).sum().item()\n",
    "\n",
    "            print('Private model testing: epoch: %d | loss: %.3f | Acc: %.3f' %(1, test_loss/(batch_idx+1), 100.*correct/total))\n",
    "            \n",
    "            return  test_loss/(batch_idx+1), 100.*correct/total"
   ]
  },
  {
   "cell_type": "code",
   "execution_count": null,
   "metadata": {},
   "outputs": [],
   "source": [
    "# Testing the private model on the wm task\n",
    "def test_private_part(model, criterion, test_loader, device):\n",
    "        model.eval()\n",
    "        test_loss = 0\n",
    "        correct = 0\n",
    "        total = 0\n",
    "        with torch.no_grad():\n",
    "            for batch_idx, (inputs, targets, flags) in enumerate(test_loader):\n",
    "                inputs, targets = inputs.to(device), targets.to(device)\n",
    "                targets = targets.type(torch.LongTensor).to(device)\n",
    "                outputs = model(inputs)\n",
    "                loss = criterion(outputs, targets)\n",
    "                test_loss += loss.item()\n",
    "                _, predicted = outputs.max(1)\n",
    "                total += targets.size(0)\n",
    "                correct += predicted.eq(targets).sum().item()\n",
    "\n",
    "            print('Testing: epoch: %d | loss: %.3f | Acc: %.3f' %(1, test_loss/(batch_idx+1), 100.*correct/total))\n",
    "            \n",
    "        return  test_loss/(batch_idx+1), 100.*correct/total"
   ]
  },
  {
   "cell_type": "code",
   "execution_count": null,
   "metadata": {},
   "outputs": [],
   "source": [
    "def plot_confusion_matrix(cm, classes,\n",
    "                          normalize=False,\n",
    "                          title='Confusion matrix',\n",
    "                          cmap=plt.cm.Blues):\n",
    "    \"\"\"\n",
    "    This function prints and plots the confusion matrix.\n",
    "    Normalization can be applied by setting `normalize=True`.\n",
    "    \"\"\"\n",
    "    if normalize:\n",
    "        cm = cm.astype('float') / cm.sum(axis=1)[:, np.newaxis]\n",
    "        print(\"Normalized confusion matrix\")\n",
    "    else:\n",
    "        print('Confusion matrix, without normalization')\n",
    "\n",
    "    print(cm)\n",
    "    plt.imshow(cm, interpolation='nearest', cmap=cmap)\n",
    "    plt.title(title)\n",
    "    plt.colorbar()\n",
    "    tick_marks = np.arange(len(classes))\n",
    "    plt.xticks(tick_marks, classes, rotation=45)\n",
    "    plt.yticks(tick_marks, classes)\n",
    "    fmt = '.2f' if normalize else 'd'\n",
    "    thresh = cm.max() / 2.\n",
    "    for i, j in itertools.product(range(cm.shape[0]),   range(cm.shape[1])):\n",
    "        plt.text(j, i, format(cm[i, j], fmt),\n",
    "                 horizontalalignment=\"center\",\n",
    "                 color=\"white\" if cm[i, j] > thresh else \"black\")\n",
    "    plt.tight_layout()\n",
    "    plt.ylabel('True label')\n",
    "    plt.xlabel('Predicted label')"
   ]
  },
  {
   "cell_type": "code",
   "execution_count": null,
   "metadata": {},
   "outputs": [],
   "source": []
  },
  {
   "cell_type": "code",
   "execution_count": null,
   "metadata": {},
   "outputs": [],
   "source": [
    "#Test label predictions\n",
    "def test_label_predictions_combined(test_loader, model, device):\n",
    "    model.eval()\n",
    "    actuals = []\n",
    "    predictions = []\n",
    "\n",
    "    with torch.no_grad():\n",
    "         for batch_idx, (inputs, targets, flags) in enumerate(test_loader):\n",
    "            inputs, targets = inputs.to(device), targets.to(device)\n",
    "            targets = targets.type(torch.LongTensor).squeeze().to(device)\n",
    "            _, outputs = model(inputs)\n",
    "            outputs = outputs.squeeze()\n",
    "            prediction = outputs.argmax(dim=1, keepdim=True)\n",
    "            actuals.extend(targets.view_as(prediction))\n",
    "            predictions.extend(prediction)\n",
    "\n",
    "    actuals =  [i.item() for i in actuals]\n",
    "    predictions = [i.item() for i in predictions]\n",
    "    print('Confusion matrix:')\n",
    "    cnf_matrix = confusion_matrix(actuals, predictions)\n",
    "    print(cnf_matrix)\n",
    "    plt.figure()\n",
    "    plot_confusion_matrix(cnf_matrix, classes=[str(i) for i in range(6)], normalize=True,\n",
    "                      title='With predictions of unmarked VGG16')\n",
    "    plt.tight_layout()\n",
    "    plt.savefig('private_resnet18_with_unmarked_vgg16.png', dpi = 600)\n",
    "    plt.show()\n",
    "    print('F1 score: %f' % accuracy_score(actuals, predictions))\n",
    "\n",
    "    print('{0:10s} - {1}'.format('Category','Accuracy'))\n",
    "    for i, r in enumerate(confusion_matrix(actuals, predictions)):\n",
    "        print('{0:10s} - {1:.1f}'.format(str(i), r[i]/np.sum(r)*100))\n"
   ]
  },
  {
   "cell_type": "code",
   "execution_count": null,
   "metadata": {},
   "outputs": [],
   "source": [
    "\"\"\" get the outputs of the original model to use them as input feature to the private model \n",
    "    that will be trained in a blackbox setting. \"\"\"\n",
    "def get_original_model_outputs(model, dataloader, device):\n",
    "        model.eval()\n",
    "        features = []\n",
    "        labels = []\n",
    "        with torch.no_grad():\n",
    "            for batch_idx, (inputs, targets, flags) in enumerate(dataloader):\n",
    "                inputs, targets = inputs.to(device), targets.to(device)\n",
    "                outputs = model(inputs)\n",
    "                features.append(outputs)\n",
    "                labels.append(targets)\n",
    "    \n",
    "        return features, labels"
   ]
  },
  {
   "cell_type": "code",
   "execution_count": null,
   "metadata": {},
   "outputs": [],
   "source": [
    "\"\"\" get the outputs of the original model to use them as input feature to the private model \n",
    "    that will be trained in a blackbox setting. \"\"\"\n",
    "def get_wm_model_outputs(model, dataloader, device):\n",
    "        model.eval()\n",
    "        features = []\n",
    "        labels = []\n",
    "        with torch.no_grad():\n",
    "            for batch_idx, (inputs, targets, flags) in enumerate(dataloader):\n",
    "                inputs, targets = inputs.to(device), targets.to(device)\n",
    "                outputs, _ = model(inputs)\n",
    "                features.append(outputs[0])\n",
    "                labels.append(targets)\n",
    "    \n",
    "        return features, labels"
   ]
  },
  {
   "cell_type": "code",
   "execution_count": null,
   "metadata": {},
   "outputs": [],
   "source": [
    "#load original dataset\n",
    "\n",
    "trainset, testset, train_loader, test_loader = get_flagged_cifar10_dataset(100, 100)\n",
    "random_samples = np.random.choice(len(trainset), int(len(trainset)*1), replace = False)\n",
    "sampled_trainset = torch.utils.data.Subset(trainset, random_samples)\n",
    "finetune_train_loader = torch.utils.data.DataLoader(\n",
    "        sampled_trainset, batch_size=100, shuffle=True, num_workers=2)\n"
   ]
  },
  {
   "cell_type": "code",
   "execution_count": null,
   "metadata": {},
   "outputs": [],
   "source": [
    "# load watermark dataset\n",
    "\n",
    "trainsetwm, testsetwm = get_signed_dataset(identity_string, fake_identity_string, key_size, num_wm_samples\n",
    "                                          , containerdataset=containerdataset)\n",
    "wm_testloader = torch.utils.data.DataLoader(testsetwm, batch_size=10, shuffle=False, num_workers=1)\n",
    "\n",
    "\n",
    "# wm_testloader = torch.utils.data.DataLoader(\n",
    "#         trainsetwm, batch_size=10, shuffle=False, num_workers=1)"
   ]
  },
  {
   "cell_type": "code",
   "execution_count": null,
   "metadata": {},
   "outputs": [],
   "source": [
    "#Loading of models\n",
    "criterion = nn.CrossEntropyLoss()\n",
    "\n",
    "resnet18 = ResNet18().to(device)\n",
    "checkpoint = torch.load('./Checkpoints/best_original_cifar10.t7')\n",
    "resnet18.load_state_dict(checkpoint['state_dict'])\n",
    "\n",
    "resnet18wm = ResNet18WM().to(device)\n",
    "checkpoint = torch.load('./Checkpoints/best_combined_fromscratch_cifar10.t7')\n",
    "resnet18wm.load_state_dict(checkpoint['state_dict'])\n",
    "\n",
    "vgg16 = VGG('VGG16').to(device)\n",
    "checkpoint = torch.load('./Checkpoints/best_original_cifar10vgg16.t7')\n",
    "vgg16.load_state_dict(checkpoint['state_dict'])\n",
    "\n",
    "vgg16wm = VGGWM('VGG16').to(device)\n",
    "checkpoint = torch.load('./Checkpoints/best_combined_fromscratch_cifar10vgg16.t7')\n",
    "vgg16wm.load_state_dict(checkpoint['state_dict'])\n"
   ]
  },
  {
   "cell_type": "code",
   "execution_count": null,
   "metadata": {},
   "outputs": [],
   "source": [
    "# test_original(resnet18wm, criterion, test_loader, device)\n",
    "test_private(resnet18wm, criterion, wm_testloader, device) \n",
    "test_label_predictions_combined(wm_testloader, resnet18wm, device)"
   ]
  },
  {
   "cell_type": "code",
   "execution_count": null,
   "metadata": {},
   "outputs": [],
   "source": [
    "# test_original(vgg16wm, criterion, test_loader, device)\n",
    "test_private(vgg16wm, criterion, wm_testloader, device) \n",
    "test_label_predictions_combined(wm_testloader, vgg16wm, device)"
   ]
  },
  {
   "cell_type": "code",
   "execution_count": null,
   "metadata": {},
   "outputs": [],
   "source": [
    "#Integrity experiments\n",
    "\n",
    "#1. Testing the private model trained with marked resnet18 with other unmarked resnet18\n",
    "print('Testing the private model trained with marked resnet18 with other unmarked resnet18')\n",
    "resnet18_dict = resnet18.state_dict()\n",
    "resnet18wm_dict = resnet18wm.state_dict()\n",
    "for key in resnet18_dict.keys():\n",
    "    resnet18wm_dict[key] = copy.deepcopy(resnet18_dict[key])\n",
    "\n",
    "resnet18wm.load_state_dict(resnet18wm_dict)\n",
    "# test_original(resnet18wm, criterion, test_loader, device)\n",
    "test_private(resnet18wm, criterion, wm_testloader, device) \n",
    "test_label_predictions_combined(wm_testloader, resnet18wm, device)"
   ]
  },
  {
   "cell_type": "code",
   "execution_count": null,
   "metadata": {},
   "outputs": [],
   "source": [
    "#Loading of models\n",
    "criterion = nn.CrossEntropyLoss()\n",
    "\n",
    "resnet18 = ResNet18().to(device)\n",
    "checkpoint = torch.load('./Checkpoints/best_original_cifar10.t7')\n",
    "resnet18.load_state_dict(checkpoint['state_dict'])\n",
    "\n",
    "resnet18wm = ResNet18WM().to(device)\n",
    "checkpoint = torch.load('./Checkpoints/best_combined_fromscratch_cifar10.t7')\n",
    "resnet18wm.load_state_dict(checkpoint['state_dict'])\n",
    "\n",
    "vgg16 = VGG('VGG16').to(device)\n",
    "checkpoint = torch.load('./Checkpoints/best_original_cifar10vgg16.t7')\n",
    "vgg16.load_state_dict(checkpoint['state_dict'])\n",
    "\n",
    "vgg16wm = VGGWM('VGG16').to(device)\n",
    "checkpoint = torch.load('./Checkpoints/best_combined_fromscratch_cifar10vgg16.t7')\n",
    "vgg16wm.load_state_dict(checkpoint['state_dict'])"
   ]
  },
  {
   "cell_type": "code",
   "execution_count": null,
   "metadata": {},
   "outputs": [],
   "source": [
    "#2. Testing the private model trained with marked resnet18 with other unmarked vgg16\n",
    "print('Testing the private model trained with marked resnet18 with other unmarked vgg16')\n",
    "vgg16_dict = vgg16.state_dict()\n",
    "vgg16wm_dict = vgg16wm.state_dict()\n",
    "resnet18wm_dict = resnet18wm.state_dict()\n",
    "\n",
    "\n",
    "vgg16wm_dict['wmlinear1.weight'] = copy.deepcopy(resnet18wm_dict['wmlayer1.weight'])\n",
    "vgg16wm_dict['wmlinear2.weight'] = copy.deepcopy(resnet18wm_dict['wmlayer2.weight'])\n",
    "vgg16wm_dict['wmlinear3.weight'] = copy.deepcopy(resnet18wm_dict['wmlayer3.weight'])\n",
    "vgg16wm_dict['wmlinear1.bias'] = copy.deepcopy(resnet18wm_dict['wmlayer1.bias'])\n",
    "vgg16wm_dict['wmlinear2.bias'] = copy.deepcopy(resnet18wm_dict['wmlayer2.bias'])\n",
    "vgg16wm_dict['wmlinear3.bias'] = copy.deepcopy(resnet18wm_dict['wmlayer3.bias'])\n",
    " \n",
    "\n",
    "for key in vgg16_dict.keys():\n",
    "    vgg16wm_dict[key] = copy.deepcopy(vgg16_dict[key])\n",
    "\n",
    "vgg16wm.load_state_dict(vgg16wm_dict)\n",
    "# test_original(vgg16wm, criterion, test_loader, device)\n",
    "test_private(vgg16wm, criterion, wm_testloader, device) \n",
    "test_label_predictions_combined(wm_testloader, vgg16wm, device)"
   ]
  },
  {
   "cell_type": "code",
   "execution_count": null,
   "metadata": {},
   "outputs": [],
   "source": [
    "#Loading of models\n",
    "criterion = nn.CrossEntropyLoss()\n",
    "\n",
    "resnet18 = ResNet18().to(device)\n",
    "checkpoint = torch.load('./Checkpoints/best_original_cifar10.t7')\n",
    "resnet18.load_state_dict(checkpoint['state_dict'])\n",
    "\n",
    "resnet18wm = ResNet18WM().to(device)\n",
    "checkpoint = torch.load('./Checkpoints/best_combined_fromscratch_cifar10.t7')\n",
    "resnet18wm.load_state_dict(checkpoint['state_dict'])\n",
    "\n",
    "vgg16 = VGG('VGG16').to(device)\n",
    "checkpoint = torch.load('./Checkpoints/best_original_cifar10vgg16.t7')\n",
    "vgg16.load_state_dict(checkpoint['state_dict'])\n",
    "\n",
    "vgg16wm = VGGWM('VGG16').to(device)\n",
    "checkpoint = torch.load('./Checkpoints/best_combined_fromscratch_cifar10vgg16.t7')\n",
    "vgg16wm.load_state_dict(checkpoint['state_dict'])"
   ]
  },
  {
   "cell_type": "code",
   "execution_count": null,
   "metadata": {},
   "outputs": [],
   "source": [
    "#3. Testing the private model trained with marked vgg16 with other unmarked vgg16\n",
    "print('Testing the private model trained with marked vgg16 with other unmarked vgg16')\n",
    "vgg16_dict = vgg16.state_dict()\n",
    "vgg16wm_dict = vgg16wm.state_dict()\n",
    "for key in vgg16_dict.keys():\n",
    "    vgg16wm_dict[key] = copy.deepcopy(vgg16_dict[key])\n",
    "\n",
    "vgg16wm.load_state_dict(vgg16wm_dict)\n",
    "# test_original(vgg16wm, criterion, test_loader, device)\n",
    "test_private(vgg16wm, criterion, wm_testloader, device) \n",
    "test_label_predictions_combined(wm_testloader, vgg16wm, device)"
   ]
  },
  {
   "cell_type": "code",
   "execution_count": null,
   "metadata": {},
   "outputs": [],
   "source": [
    "#Loading of models\n",
    "criterion = nn.CrossEntropyLoss()\n",
    "\n",
    "resnet18 = ResNet18().to(device)\n",
    "checkpoint = torch.load('./Checkpoints/best_original_cifar10.t7')\n",
    "resnet18.load_state_dict(checkpoint['state_dict'])\n",
    "\n",
    "resnet18wm = ResNet18WM().to(device)\n",
    "checkpoint = torch.load('./Checkpoints/best_combined_fromscratch_cifar10.t7')\n",
    "resnet18wm.load_state_dict(checkpoint['state_dict'])\n",
    "\n",
    "vgg16 = VGG('VGG16').to(device)\n",
    "checkpoint = torch.load('./Checkpoints/best_original_cifar10vgg16.t7')\n",
    "vgg16.load_state_dict(checkpoint['state_dict'])\n",
    "\n",
    "vgg16wm = VGGWM('VGG16').to(device)\n",
    "checkpoint = torch.load('./Checkpoints/best_combined_fromscratch_cifar10vgg16.t7')\n",
    "vgg16wm.load_state_dict(checkpoint['state_dict'])"
   ]
  },
  {
   "cell_type": "code",
   "execution_count": null,
   "metadata": {},
   "outputs": [],
   "source": [
    "#2. Testing the private model trained with marked vgg16 with other unmarked resnet18\n",
    "print('Testing the private model trained with marked vgg16 with other unmarked resnet18')\n",
    "\n",
    "vgg16wm_dict = vgg16wm.state_dict()\n",
    "resnet18_dict = resnet18.state_dict()\n",
    "resnet18wm_dict = resnet18wm.state_dict()\n",
    "\n",
    "\n",
    "\n",
    "resnet18wm_dict['wmlayer1.weight'] = copy.deepcopy(vgg16wm_dict['wmlinear1.weight'])\n",
    "resnet18wm_dict['wmlayer2.weight'] = copy.deepcopy(vgg16wm_dict['wmlinear2.weight'])\n",
    "resnet18wm_dict['wmlayer3.weight'] = copy.deepcopy(vgg16wm_dict['wmlinear3.weight'])\n",
    "resnet18wm_dict['wmlayer1.bias'] = copy.deepcopy(vgg16wm_dict['wmlinear1.bias'])\n",
    "resnet18wm_dict['wmlayer2.bias'] = copy.deepcopy(vgg16wm_dict['wmlinear2.bias'])\n",
    "resnet18wm_dict['wmlayer3.bias'] = copy.deepcopy(vgg16wm_dict['wmlinear3.bias'])\n",
    " \n",
    "\n",
    "for key in resnet18_dict.keys():\n",
    "    resnet18wm_dict[key] = copy.deepcopy(resnet18_dict[key])\n",
    "\n",
    "resnet18wm.load_state_dict(resnet18wm_dict)\n",
    "# test_original(resnet18wm, criterion, test_loader, device)\n",
    "test_private(resnet18wm, criterion, wm_testloader, device) \n",
    "test_label_predictions_combined(wm_testloader, resnet18wm, device)"
   ]
  },
  {
   "cell_type": "code",
   "execution_count": null,
   "metadata": {},
   "outputs": [],
   "source": [
    "from resnet_models import*"
   ]
  },
  {
   "cell_type": "code",
   "execution_count": null,
   "metadata": {},
   "outputs": [],
   "source": [
    "net = ResNet18WM()\n",
    "y = net(torch.randn(1, 3, 32, 32))\n",
    "print(y[1].size())"
   ]
  },
  {
   "cell_type": "code",
   "execution_count": null,
   "metadata": {},
   "outputs": [],
   "source": [
    "import glob"
   ]
  },
  {
   "cell_type": "code",
   "execution_count": null,
   "metadata": {},
   "outputs": [],
   "source": [
    "images = glob.glob('./data/dif_dist/*.jpg')"
   ]
  },
  {
   "cell_type": "code",
   "execution_count": null,
   "metadata": {},
   "outputs": [],
   "source": [
    "len(images)"
   ]
  },
  {
   "cell_type": "code",
   "execution_count": null,
   "metadata": {},
   "outputs": [],
   "source": [
    "images[0]"
   ]
  },
  {
   "cell_type": "code",
   "execution_count": 3,
   "metadata": {},
   "outputs": [],
   "source": [
    "wmtrainset, wmtestset = get_signed_diff_dist(identity_string = identity_string)"
   ]
  },
  {
   "cell_type": "code",
   "execution_count": 16,
   "metadata": {},
   "outputs": [
    {
     "data": {
      "text/plain": [
       "<matplotlib.image.AxesImage at 0x1eb9960f220>"
      ]
     },
     "execution_count": 16,
     "metadata": {},
     "output_type": "execute_result"
    },
    {
     "data": {
      "image/png": "[encoded data removed]",
      "text/plain": [
       "<Figure size 432x288 with 1 Axes>"
      ]
     },
     "metadata": {
      "needs_background": "light"
     },
     "output_type": "display_data"
    }
   ],
   "source": [
    "x = wmtestset[50][0].numpy()\n",
    "y = np.transpose(x, (1, 2, 0))\n",
    "plt.imshow(y)"
   ]
  },
  {
   "cell_type": "code",
   "execution_count": null,
   "metadata": {},
   "outputs": [],
   "source": []
  }
 ],
 "metadata": {
  "kernelspec": {
   "display_name": "Python 3",
   "language": "python",
   "name": "python3"
  },
  "language_info": {
   "codemirror_mode": {
    "name": "ipython",
    "version": 3
   },
   "file_extension": ".py",
   "mimetype": "text/x-python",
   "name": "python",
   "nbconvert_exporter": "python",
   "pygments_lexer": "ipython3",
   "version": "3.8.5"
  }
 },
 "nbformat": 4,
 "nbformat_minor": 4
}
