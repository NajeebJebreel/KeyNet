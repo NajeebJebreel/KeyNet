{
 "cells": [
  {
   "cell_type": "code",
   "execution_count": null,
   "metadata": {},
   "outputs": [],
   "source": [
    "from keynet import KeyNet\n",
    "import torch\n",
    "import numpy as np\n",
    "import random\n",
    "import os"
   ]
  },
  {
   "cell_type": "code",
   "execution_count": null,
   "metadata": {},
   "outputs": [],
   "source": [
    "#Hyperparameters\n",
    "device = torch.device(\"cuda:0\" if torch.cuda.is_available() else \"cpu\")\n",
    "original_task_train_epochs = 250\n",
    "train_batch_size = 128\n",
    "test_batch_size = 100\n",
    "learning_rate = 0.001\n",
    "momentum = 0.9\n",
    "\n",
    "original_classes = ('plane', 'car', 'bird', 'cat', 'deer',\n",
    "           'dog', 'frog', 'horse', 'ship', 'truck')\n",
    "watermark_classes = ('not signed', 'top righ', 'top left', 'down right', 'dwon left', 'center')\n",
    "\n",
    "owner_identity_string = b'Y123456789S_CRISES_URV_DEIM_NAJEEBMOHARRAMSALIMJEBREEL02092020imageclassification_ResNet18_10_classes'\n",
    "attacker_identity_string = b'X7823579_CRISES_URV_DEIM_MRAMIJOSEPHAFFAR_crisesURV_2409022_ResNet18_Objectclassification_10labels'\n",
    "signature_size = 25\n",
    "train_wm_black_box_epochs = 250\n",
    "embedwm_byfinetuning_epochs = 30\n",
    "embedwm_fromscratch_epochs = 25\n",
    "\n",
    "finetuning_attack_epochs = [50, 100, 150, 200]\n",
    "wm_overite_epochs = 50\n",
    "original_dataset = 'cifar10'\n",
    "wmcarrierset = 'stl10'\n",
    "attacker_wmcarrierset = 'fmnist'\n",
    "model_names = ['ResNet18', 'VGG16']\n",
    "seed = 123\n",
    "\n",
    "\n",
    "keynet = KeyNet(device, original_task_train_epochs = original_task_train_epochs, train_batch_size = train_batch_size, \n",
    "                test_batch_size = test_batch_size, learning_rate = learning_rate, momentum = momentum,\n",
    "                original_classes = original_classes, owner_identity_string = owner_identity_string, \n",
    "                attacker_identity_string = attacker_identity_string,\n",
    "                signature_size = signature_size, train_wm_black_box_epochs = train_wm_black_box_epochs, \n",
    "                embedwm_byfinetuning_epochs = embedwm_byfinetuning_epochs,\n",
    "                embedwm_fromscratch_epochs = embedwm_fromscratch_epochs, \n",
    "                finetuning_attack_epochs = finetuning_attack_epochs, wm_overite_epochs = wm_overite_epochs,\n",
    "                original_dataset = original_dataset, wmcarrierset = wmcarrierset, \n",
    "                attacker_wmcarrierset = attacker_wmcarrierset, model_name = model_name, seed = seed)"
   ]
  },
  {
   "cell_type": "code",
   "execution_count": null,
   "metadata": {},
   "outputs": [],
   "source": [
    "keynet.train_original_task(epochs = 250)"
   ]
  },
  {
   "cell_type": "code",
   "execution_count": null,
   "metadata": {},
   "outputs": [],
   "source": [
    "keynet.train_original_task(resume = True)"
   ]
  },
  {
   "cell_type": "code",
   "execution_count": null,
   "metadata": {},
   "outputs": [],
   "source": [
    "keynet.train_private_model_with_black_box_access(train_wm_black_box_epochs = 250)"
   ]
  },
  {
   "cell_type": "code",
   "execution_count": null,
   "metadata": {},
   "outputs": [],
   "source": [
    "keynet.embedwm_byfinetuning(train_private_model_epochs=30)"
   ]
  },
  {
   "cell_type": "code",
   "execution_count": null,
   "metadata": {},
   "outputs": [],
   "source": [
    "keynet.finetune_original_part(finetuning_epochs = 200, model_name = 'fintuned', data_fraction = 0.3)"
   ]
  },
  {
   "cell_type": "code",
   "execution_count": null,
   "metadata": {},
   "outputs": [],
   "source": [
    "keynet.embedwm_fromscratch(train_fromscratch_epochs = 250)"
   ]
  },
  {
   "cell_type": "code",
   "execution_count": null,
   "metadata": {},
   "outputs": [],
   "source": [
    "keynet.finetune_original_part(finetuning_epochs=200, model_name = 'fromscratch', data_fraction = 0.3)"
   ]
  },
  {
   "cell_type": "code",
   "execution_count": null,
   "metadata": {},
   "outputs": [],
   "source": [
    "data_fraction = [0.01, 0.03, 0.05, 0.1, 0.15]\n",
    "for fraction in data_fraction:\n",
    "    print('Fraction of training data: {}%'.format(fraction*100))\n",
    "    keynet.overwrite_watermark(wm_overite_epochs = wm_overite_epochs, model_name = 'fromscratch', data_fraction = fraction)"
   ]
  },
  {
   "cell_type": "code",
   "execution_count": null,
   "metadata": {},
   "outputs": [],
   "source": []
  }
 ],
 "metadata": {
  "kernelspec": {
   "display_name": "Python 3",
   "language": "python",
   "name": "python3"
  },
  "language_info": {
   "codemirror_mode": {
    "name": "ipython",
    "version": 3
   },
   "file_extension": ".py",
   "mimetype": "text/x-python",
   "name": "python",
   "nbconvert_exporter": "python",
   "pygments_lexer": "ipython3",
   "version": "3.8.5"
  }
 },
 "nbformat": 4,
 "nbformat_minor": 4
}
