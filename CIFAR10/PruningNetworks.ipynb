{
 "cells": [
  {
   "cell_type": "code",
   "execution_count": 1,
   "metadata": {},
   "outputs": [],
   "source": [
    "import torch\n",
    "from torch import nn\n",
    "import torch.nn.utils.prune as prune\n",
    "import torch.nn.functional as F\n",
    "from resnet import ResNet18\n",
    "from resnetwm import ResNet18WM\n",
    "import utils\n",
    "from utils import*\n",
    "import torch.utils.data as data\n",
    "import torchvision\n",
    "from torchvision import datasets, transforms\n",
    "import numpy as np\n",
    "import matplotlib.pyplot as plt\n",
    "import random\n",
    "from torch.utils.data import TensorDataset\n",
    "import mlp_private\n",
    "# from mlp_private import MLP\n",
    "from mlp import MLP\n",
    "from dataset import BBoxDtaset\n",
    "import cv2\n",
    "from torch.utils.data.sampler import SubsetRandomSampler\n",
    "import nni\n",
    "from nni.compression.torch import LevelPruner, L1FilterPruner, FPGMPruner, SlimPruner, AGPPruner\n",
    "from pruning_utils import*\n",
    "import torch.optim as optim\n",
    "import torch.optim.lr_scheduler as lr_scheduler"
   ]
  },
  {
   "cell_type": "code",
   "execution_count": 2,
   "metadata": {},
   "outputs": [],
   "source": [
    "#Hyperparameters\n",
    "device = torch.device(\"cuda:0\" if torch.cuda.is_available() else \"cpu\")\n",
    "epochs = 100\n",
    "train_batch_size = 128\n",
    "test_batch_size = 100\n",
    "learning_rate = 0.001\n",
    "momentum = 0.9\n",
    "original_classes = ('plane', 'car', 'bird', 'cat', 'deer',\n",
    "           'dog', 'frog', 'horse', 'ship', 'truck')\n",
    "watermark_classes = ('no key', 'top righ', 'top left', 'down right', 'dwon left')\n",
    "identity_string = b'Y6588121SNAJEEBMOHARRAMSALIMJEBREEL02092020imageclassification_10_classes'\n",
    "fake_identity_string = b'Y6588121NAJEEBMOHARRAMSALIMcrisesURV02092020classification10labels'\n",
    "plagiarizer_identity_string = b'X7823579MRAMIJOSEPHAFFARcrisesURV2409022ResNet18classification10labels'\n",
    "plagiarizer_fake_identity_string = b'X7823579WRAMIHAFFARJOSEP2509022ResNet18classificationofImage10labels'\n",
    "key_size = 5\n",
    "num_wm_samples = 25000\n",
    "train_wm_black_box_epochs = 50\n",
    "combined_original_model_epochs = 200\n",
    "combined_private_model_epochs = 100\n",
    "train_simultaneously_epochs = 100\n",
    "dataset = 'cifar10'\n",
    "containerdataset = 'stl10'"
   ]
  },
  {
   "cell_type": "code",
   "execution_count": 3,
   "metadata": {},
   "outputs": [],
   "source": [
    "def updateBN(model):\n",
    "    for m in model.modules():\n",
    "        if isinstance(m, nn.BatchNorm2d):\n",
    "            m.weight.grad.data.add_(0.0001 * torch.sign(m.weight.data))  # L1"
   ]
  },
  {
   "cell_type": "code",
   "execution_count": 4,
   "metadata": {},
   "outputs": [],
   "source": [
    "def train(model, device, train_loader, optimizer, criterion, sparse_bn=False):\n",
    "    model.train()\n",
    "    for batch_idx, (data, target, flags) in enumerate(train_loader):\n",
    "        data, target = data.to(device), target.to(device)\n",
    "        optimizer.zero_grad()\n",
    "        output, _ = model(data)\n",
    "        loss = criterion(output, target)\n",
    "        loss.backward()\n",
    "        # L1 regularization on BN layer\n",
    "        if sparse_bn:\n",
    "            updateBN(model)\n",
    "        optimizer.step()\n",
    "       \n",
    "    print('Loss: {}'.format(loss.item()))\n"
   ]
  },
  {
   "cell_type": "code",
   "execution_count": 5,
   "metadata": {},
   "outputs": [],
   "source": [
    "# Testing the original model on the original task\n",
    "def test_original(model, criterion, test_loader, device):\n",
    "   \n",
    "        model.eval()\n",
    "        test_loss = 0\n",
    "        correct = 0\n",
    "        total = 0\n",
    "        with torch.no_grad():\n",
    "            for batch_idx, (inputs, targets, flags) in enumerate(test_loader):\n",
    "                inputs, targets = inputs.to(device), targets.to(device)\n",
    "                outputs, _ = model(inputs)\n",
    "                loss = criterion(outputs, targets)\n",
    "                test_loss += loss.item()\n",
    "                _, predicted = outputs.max(1)\n",
    "                total += targets.size(0)\n",
    "                correct += predicted.eq(targets).sum().item()\n",
    "\n",
    "            print('Testing: epoch: %d | loss: %.3f | Acc: %.3f' %(1, test_loss/(batch_idx+1), 100.*correct/total))\n",
    "            \n",
    "        return  test_loss/(batch_idx+1), 100.*correct/total"
   ]
  },
  {
   "cell_type": "code",
   "execution_count": 6,
   "metadata": {},
   "outputs": [],
   "source": [
    "# Testing the private model on the wm task\n",
    "def test_private(model, criterion, test_loader, device):\n",
    "   \n",
    "        model.eval()\n",
    "        test_loss = 0\n",
    "        correct = 0\n",
    "        total = 0\n",
    "        with torch.no_grad():\n",
    "            for batch_idx, (inputs, targets, flags) in enumerate(test_loader):\n",
    "                inputs, targets = inputs.to(device), targets.to(device)\n",
    "                targets = targets.type(torch.LongTensor).to(device)\n",
    "                _, outputs = model(inputs)\n",
    "                loss = criterion(outputs, targets)\n",
    "                test_loss += loss.item()\n",
    "                _, predicted = outputs.max(1)\n",
    "                total += targets.size(0)\n",
    "                correct += predicted.eq(targets).sum().item()\n",
    "\n",
    "            print('Private model testing: epoch: %d | loss: %.3f | Acc: %.3f' %(1, test_loss/(batch_idx+1), 100.*correct/total))\n",
    "            \n",
    "            return  test_loss/(batch_idx+1), 100.*correct/total"
   ]
  },
  {
   "cell_type": "code",
   "execution_count": 3,
   "metadata": {},
   "outputs": [
    {
     "data": {
      "text/plain": [
       "92.07"
      ]
     },
     "execution_count": 3,
     "metadata": {},
     "output_type": "execute_result"
    }
   ],
   "source": [
    "combinedmodel = ResNet18WM().to(device)\n",
    "combinedoptimizer = torch.optim.SGD(combinedmodel.parameters(), lr=0.001,\n",
    "                      momentum=0.9, weight_decay=5e-4)\n",
    "criterion = nn.CrossEntropyLoss()\n",
    "checkpoint = torch.load('./Checkpoints/best_combined_fromscratch_cifar10.t7')\n",
    "combinedmodel.load_state_dict(checkpoint['state_dict'])\n",
    "combinedoptimizer.load_state_dict(checkpoint['optimizer'])\n",
    "combinedstart_epoch = checkpoint['epoch']\n",
    "combinedbest_acc = checkpoint['acc']\n",
    "combinedbest_acc"
   ]
  },
  {
   "cell_type": "code",
   "execution_count": 8,
   "metadata": {},
   "outputs": [
    {
     "name": "stdout",
     "output_type": "stream",
     "text": [
      "Files already downloaded and verified\n",
      "Files already downloaded and verified\n"
     ]
    }
   ],
   "source": [
    "trainset, testset, train_loader, test_loader = get_flagged_cifar10_dataset(100, 100)\n",
    "# train_set, test_set = get_original_cifar10_dataset()\n",
    "# train_loader = torch.utils.data.DataLoader(\n",
    "#         train_set, batch_size=100, shuffle=True, num_workers=2)\n",
    "# test_loader = torch.utils.data.DataLoader(\n",
    "#         test_set, batch_size=100, shuffle=False, num_workers=2)\n",
    "random_samples = np.random.choice(len(trainset), int(len(trainset)*0.3), replace = False)\n",
    "sampled_trainset = torch.utils.data.Subset(trainset, random_samples)\n",
    "finetune_train_loader = torch.utils.data.DataLoader(\n",
    "        sampled_trainset, batch_size=128, shuffle=True, num_workers=2)"
   ]
  },
  {
   "cell_type": "code",
   "execution_count": 9,
   "metadata": {},
   "outputs": [
    {
     "name": "stdout",
     "output_type": "stream",
     "text": [
      "Files already downloaded and verified\n"
     ]
    }
   ],
   "source": [
    "trainsetwm, testsetwm = get_signed_dataset(identity_string, fake_identity_string, key_size, num_wm_samples\n",
    "                                          , containerdataset=containerdataset)\n",
    "wm_testloader = torch.utils.data.DataLoader(testsetwm, batch_size=10, shuffle=False, num_workers=1)"
   ]
  },
  {
   "cell_type": "code",
   "execution_count": 11,
   "metadata": {},
   "outputs": [
    {
     "name": "stdout",
     "output_type": "stream",
     "text": [
      "Marked model accuracy 92.53\n",
      "Pruning rate: 10.0%\n",
      "Testing: epoch: 1 | loss: 0.537 | Acc: 92.520\n",
      "Private model testing: epoch: 1 | loss: 0.007 | Acc: 99.733\n",
      "###########################################################################################\n",
      "Marked model accuracy 92.53\n",
      "Pruning rate: 20.0%\n",
      "Testing: epoch: 1 | loss: 0.539 | Acc: 92.210\n",
      "Private model testing: epoch: 1 | loss: 0.008 | Acc: 99.653\n",
      "###########################################################################################\n",
      "Marked model accuracy 92.53\n",
      "Pruning rate: 30.0%\n",
      "Testing: epoch: 1 | loss: 0.568 | Acc: 91.730\n",
      "Private model testing: epoch: 1 | loss: 0.014 | Acc: 99.627\n",
      "###########################################################################################\n",
      "Marked model accuracy 92.53\n",
      "Pruning rate: 40.0%\n",
      "Testing: epoch: 1 | loss: 0.678 | Acc: 90.160\n",
      "Private model testing: epoch: 1 | loss: 0.368 | Acc: 89.813\n",
      "###########################################################################################\n",
      "Marked model accuracy 92.53\n",
      "Pruning rate: 45.0%\n",
      "Testing: epoch: 1 | loss: 0.960 | Acc: 86.110\n",
      "Private model testing: epoch: 1 | loss: 0.467 | Acc: 86.987\n",
      "###########################################################################################\n",
      "Marked model accuracy 92.53\n",
      "Pruning rate: 50.0%\n",
      "Testing: epoch: 1 | loss: 1.284 | Acc: 81.610\n",
      "Private model testing: epoch: 1 | loss: 2.047 | Acc: 63.413\n",
      "###########################################################################################\n"
     ]
    }
   ],
   "source": [
    "pruning_rates = [0.1, 0.2, 0.3, 0.4, 0.45, 0.5]\n",
    "for pr in pruning_rates:\n",
    "    \n",
    "    combinedmodel = ResNet18WM().to(device)\n",
    "    combinedoptimizer = torch.optim.SGD(combinedmodel.parameters(), lr=0.001,\n",
    "                          momentum=0.9, weight_decay=5e-4)\n",
    "    criterion = nn.CrossEntropyLoss()\n",
    "    checkpoint = torch.load('./Checkpoints/best_combined_fromscratch_cifar10.t7')\n",
    "    combinedmodel.load_state_dict(checkpoint['state_dict'])\n",
    "    combinedstart_epoch = checkpoint['epoch']\n",
    "    combinedbest_acc = checkpoint['acc']\n",
    "    print('Marked model accuracy', combinedbest_acc)\n",
    "    \n",
    "    print('Pruning rate: {}%'.format(pr*100))\n",
    "    \n",
    "    config_list = [{ 'sparsity': pr, 'op_types': ['Conv2d'] }]\n",
    "\n",
    "    pruner = LevelPruner(combinedmodel, config_list, combinedoptimizer)\n",
    "    combinedmodel = pruner.compress()\n",
    "    combinemodel_dict = combinedmodel.state_dict()\n",
    "    \n",
    "#     for epoch in range(10):\n",
    "#         print('# Epoch {} #'.format(epoch+1))\n",
    "#         train(combinedmodel, device, finetune_train_loader, combinedoptimizer, criterion)\n",
    "#         pruner.update_epoch(epoch)\n",
    "        \n",
    "    for key in combinemodel_dict.keys():\n",
    "        if 'wm' in key:\n",
    "            if 'mask' in key:\n",
    "                combinemodel_dict[key] = torch.ones_like(combinemodel_dict[key])\n",
    "\n",
    "    combinedmodel.load_state_dict(combinemodel_dict)\n",
    "\n",
    "    test_original(combinedmodel, criterion, test_loader, device)\n",
    "    test_private(combinedmodel, criterion, wm_testloader, device) \n",
    "    print('###########################################################################################')\n"
   ]
  },
  {
   "cell_type": "code",
   "execution_count": null,
   "metadata": {},
   "outputs": [],
   "source": []
  }
 ],
 "metadata": {
  "kernelspec": {
   "display_name": "Python 3",
   "language": "python",
   "name": "python3"
  },
  "language_info": {
   "codemirror_mode": {
    "name": "ipython",
    "version": 3
   },
   "file_extension": ".py",
   "mimetype": "text/x-python",
   "name": "python",
   "nbconvert_exporter": "python",
   "pygments_lexer": "ipython3",
   "version": "3.8.5"
  }
 },
 "nbformat": 4,
 "nbformat_minor": 4
}
